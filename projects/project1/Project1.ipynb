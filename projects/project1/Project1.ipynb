{
 "cells": [
  {
   "cell_type": "code",
   "execution_count": 1,
   "id": "02df4241",
   "metadata": {},
   "outputs": [],
   "source": [
    "import otter\n",
    "grader = otter.Notebook()"
   ]
  },
  {
   "cell_type": "code",
   "execution_count": 2,
   "id": "dee8b444",
   "metadata": {},
   "outputs": [],
   "source": [
    "import pandas as pd\n",
    "import numpy as np\n",
    "import matplotlib.pyplot as plt\n",
    "import seaborn as sns"
   ]
  },
  {
   "cell_type": "markdown",
   "id": "3debab06",
   "metadata": {},
   "source": [
    "## (mini) Project 1: Fertility Around the World"
   ]
  },
  {
   "cell_type": "markdown",
   "id": "2716abb7",
   "metadata": {},
   "source": [
    "This is the first of two projects in 102. It is designed to test and push your coding capabilities using `pandas` and `numpy`. Note that this one is smaller the course's second project and is therefore worth fewer total points (5% of your final grade rather than 10%). \n",
    "\n",
    "**Deadline.** This project is due at 11:59pm on the due date in Canvas. Late work will not be accepted as per the course policies. It's **much** better to be early than late, so start working now.\n",
    "\n",
    "**Rules.** Don't share your code with anybody. You are welcome to discuss questions with other students, but don't share the answers. The experience of solving the problems in this project will prepare you for exams (and life). If someone asks you for the answer, resist! Instead, you can demonstrate how you would solve a similar problem.\n",
    "\n",
    "**Support.** You are not alone! Come to office hours, post on Slack/Canvas Chat, and talk to your classmates. If you want to ask about the details of your solution to a problem, make a private Slack/Chat post and the staff will respond. Take advantage of the plentiful help hours provided by the Learning Assistants.\n",
    "\n",
    "**Tests.** The tests that are given are **not comprehensive** and passing the tests for a question **does not** mean that you answered the question correctly. Tests usually only check that your table has the correct column labels. However, more tests will be applied to verify the correctness of your submission in order to assign your final score, so be careful and check your work! You might want to create your own checks along the way to see if your answers make sense. Additionally, before you submit, make sure that none of your cells take a very long time to run (several minutes).\n",
    "\n",
    "**Free Response Questions:** Make sure that you put the answers to the written questions in the indicated cell we provide."
   ]
  },
  {
   "cell_type": "markdown",
   "id": "31850542",
   "metadata": {},
   "source": [
    "## Context"
   ]
  },
  {
   "cell_type": "markdown",
   "id": "d66c5c5b",
   "metadata": {},
   "source": [
    "\n",
    "\n",
    "Fertility rates (i.e. the average number of children birthed for every woman in a country) are declining globally. In fact, the fertility rates of most countries with a high [human development index](https://hdr.undp.org/data-center/human-development-index#/indicies/HDI) are now below replacement, meaning that, absent of immigration or significant improvements to lifespan, their populations are declining. This would be an enormous surprise to many economists or ecologists of 50 years ago, who had long lived in fear of a \"population bomb\" i.e. the exponential growth of populations initially uninhibited by resources first postulated by the economist Thomas Malthus. The fear, then, was that the human population would rapidly overshoot its \"carrying capacity\", or the highest population sustainable by the Earth's resources, causing the widespread collapse of standard of living, political turmoil and even mass starvation.\n",
    "\n",
    "<img src=\"./population_bomb.png\" \n",
    "     align=\"center\" \n",
    "     width=\"500\" />\n",
    "\n",
    "While the fertility rates have been long-expected to decrease with a country's economic development, the rate of this decline has proven much greater than initially predicted. The United States, for example, has dropped below the population replacement rate of ~2.1 children/woman. This fertility-development association is well understood, but the more proximate reasons (the true causal factors driving fertility) are still debated.\n",
    "\n",
    "[The consequences of declining fertility rates are diverse](https://www.cfr.org/event/emptying-planet-global-impact-declining-fertility-rates-virtual-roundtable#:~:text=Most%20countries%20outside%20of%20sub,fiscal%2C%20and%20national%20security%20implications), including potentially positive environmental benefits but negative economic consequences. In this project, we will explore trends in fertility in the United States and around the world. "
   ]
  },
  {
   "cell_type": "markdown",
   "id": "79584890",
   "metadata": {},
   "source": [
    "### Part 1: Storks\n",
    "\n",
    "As we all know, children are brought to expecting parents on the wings of storks. We can therefore infer that the number of storks in a country would be directly related to the fertility rate of a country. Fortunately we have a real dataset that can help us evaluate this exact idea. \n",
    "\n",
    "In this section we will practice DataFrame manipulations using the `storks.txt` dataset."
   ]
  },
  {
   "cell_type": "code",
   "execution_count": 3,
   "id": "f0079ffc",
   "metadata": {},
   "outputs": [
    {
     "data": {
      "text/html": [
       "<div>\n",
       "<style scoped>\n",
       "    .dataframe tbody tr th:only-of-type {\n",
       "        vertical-align: middle;\n",
       "    }\n",
       "\n",
       "    .dataframe tbody tr th {\n",
       "        vertical-align: top;\n",
       "    }\n",
       "\n",
       "    .dataframe thead th {\n",
       "        text-align: right;\n",
       "    }\n",
       "</style>\n",
       "<table border=\"1\" class=\"dataframe\">\n",
       "  <thead>\n",
       "    <tr style=\"text-align: right;\">\n",
       "      <th></th>\n",
       "      <th>Area</th>\n",
       "      <th>Storks</th>\n",
       "      <th>BirthRate</th>\n",
       "    </tr>\n",
       "    <tr>\n",
       "      <th>Country</th>\n",
       "      <th></th>\n",
       "      <th></th>\n",
       "      <th></th>\n",
       "    </tr>\n",
       "  </thead>\n",
       "  <tbody>\n",
       "    <tr>\n",
       "      <th>Albania</th>\n",
       "      <td>28750</td>\n",
       "      <td>100</td>\n",
       "      <td>83</td>\n",
       "    </tr>\n",
       "    <tr>\n",
       "      <th>Austria</th>\n",
       "      <td>83860</td>\n",
       "      <td>300</td>\n",
       "      <td>87</td>\n",
       "    </tr>\n",
       "    <tr>\n",
       "      <th>Belgium</th>\n",
       "      <td>30520</td>\n",
       "      <td>1</td>\n",
       "      <td>118</td>\n",
       "    </tr>\n",
       "    <tr>\n",
       "      <th>Bulgaria</th>\n",
       "      <td>111000</td>\n",
       "      <td>5000</td>\n",
       "      <td>117</td>\n",
       "    </tr>\n",
       "    <tr>\n",
       "      <th>Denmark</th>\n",
       "      <td>43100</td>\n",
       "      <td>9</td>\n",
       "      <td>59</td>\n",
       "    </tr>\n",
       "  </tbody>\n",
       "</table>\n",
       "</div>"
      ],
      "text/plain": [
       "            Area  Storks  BirthRate\n",
       "Country                            \n",
       "Albania    28750     100         83\n",
       "Austria    83860     300         87\n",
       "Belgium    30520       1        118\n",
       "Bulgaria  111000    5000        117\n",
       "Denmark    43100       9         59"
      ]
     },
     "execution_count": 3,
     "metadata": {},
     "output_type": "execute_result"
    }
   ],
   "source": [
    "# Read in the data\n",
    "storks = pd.read_table(\"data/storks.txt\", sep = \"\\t\", index_col = \"Country\")\n",
    "storks.head()"
   ]
  },
  {
   "cell_type": "markdown",
   "id": "9fd32df3",
   "metadata": {},
   "source": [
    "#### Question 1.1\n",
    "\n",
    "Using `.iloc`, return the number of breeding stork pairs ('Storks') in Belgium."
   ]
  },
  {
   "cell_type": "code",
   "execution_count": 4,
   "id": "b5ea7644",
   "metadata": {},
   "outputs": [
    {
     "data": {
      "text/plain": [
       "1"
      ]
     },
     "execution_count": 4,
     "metadata": {},
     "output_type": "execute_result"
    }
   ],
   "source": [
    "belgium_storks = storks.iloc[2]['Storks']\n",
    "belgium_storks"
   ]
  },
  {
   "cell_type": "code",
   "execution_count": 5,
   "id": "3c3bc907",
   "metadata": {},
   "outputs": [
    {
     "data": {
      "text/html": [
       "<p><strong><pre style='display: inline;'>q1_1</pre></strong> passed! 🎉</p>"
      ],
      "text/plain": [
       "q1_1 results: All test cases passed!"
      ]
     },
     "execution_count": 5,
     "metadata": {},
     "output_type": "execute_result"
    }
   ],
   "source": [
    "grader.check(\"q1_1\")"
   ]
  },
  {
   "cell_type": "markdown",
   "id": "9f789a34",
   "metadata": {},
   "source": [
    "#### Question 1.2\n",
    "\n",
    "Using `.iloc`, return the row associated with Bulgaria"
   ]
  },
  {
   "cell_type": "code",
   "execution_count": 6,
   "id": "04ab1805",
   "metadata": {},
   "outputs": [
    {
     "data": {
      "text/plain": [
       "Area         111000\n",
       "Storks         5000\n",
       "BirthRate       117\n",
       "Name: Bulgaria, dtype: int64"
      ]
     },
     "execution_count": 6,
     "metadata": {},
     "output_type": "execute_result"
    }
   ],
   "source": [
    "bulg_row = storks.iloc[3]\n",
    "bulg_row"
   ]
  },
  {
   "cell_type": "code",
   "execution_count": 7,
   "id": "5a34023b",
   "metadata": {},
   "outputs": [
    {
     "data": {
      "text/html": [
       "<p><strong><pre style='display: inline;'>q1_2</pre></strong> passed! 💯</p>"
      ],
      "text/plain": [
       "q1_2 results: All test cases passed!"
      ]
     },
     "execution_count": 7,
     "metadata": {},
     "output_type": "execute_result"
    }
   ],
   "source": [
    "grader.check(\"q1_2\")"
   ]
  },
  {
   "cell_type": "markdown",
   "id": "d3429894",
   "metadata": {},
   "source": [
    "#### Question 1.3\n",
    "\n",
    "Using `.loc` (not `.iloc`!), return the row associated with Denmark."
   ]
  },
  {
   "cell_type": "code",
   "execution_count": 8,
   "id": "1e7060a9",
   "metadata": {},
   "outputs": [
    {
     "data": {
      "text/plain": [
       "Area         43100\n",
       "Storks           9\n",
       "BirthRate       59\n",
       "Name: Denmark, dtype: int64"
      ]
     },
     "execution_count": 8,
     "metadata": {},
     "output_type": "execute_result"
    }
   ],
   "source": [
    "den_row = storks.loc['Denmark']\n",
    "den_row"
   ]
  },
  {
   "cell_type": "code",
   "execution_count": 9,
   "id": "9f6156a5",
   "metadata": {},
   "outputs": [
    {
     "data": {
      "text/html": [
       "<p><strong><pre style='display: inline;'>q1_3</pre></strong> passed! 🌟</p>"
      ],
      "text/plain": [
       "q1_3 results: All test cases passed!"
      ]
     },
     "execution_count": 9,
     "metadata": {},
     "output_type": "execute_result"
    }
   ],
   "source": [
    "grader.check(\"q1_3\")"
   ]
  },
  {
   "cell_type": "markdown",
   "id": "35cda1c1",
   "metadata": {},
   "source": [
    "#### Question 1.4\n",
    "\n",
    "Using `.loc` (not `.iloc`!), return the row associated with Denmark and then return the birth rate and number of storks from that row."
   ]
  },
  {
   "cell_type": "code",
   "execution_count": 10,
   "id": "e8a62034",
   "metadata": {},
   "outputs": [
    {
     "data": {
      "text/plain": [
       "Storks        9\n",
       "BirthRate    59\n",
       "Name: Denmark, dtype: int64"
      ]
     },
     "execution_count": 10,
     "metadata": {},
     "output_type": "execute_result"
    }
   ],
   "source": [
    "den_series = den_row.drop(labels=['Area'])\n",
    "den_series"
   ]
  },
  {
   "cell_type": "code",
   "execution_count": 11,
   "id": "f350cefb",
   "metadata": {},
   "outputs": [
    {
     "data": {
      "text/html": [
       "<p><strong><pre style='display: inline;'>q1_4</pre></strong> passed! 💯</p>"
      ],
      "text/plain": [
       "q1_4 results: All test cases passed!"
      ]
     },
     "execution_count": 11,
     "metadata": {},
     "output_type": "execute_result"
    }
   ],
   "source": [
    "grader.check(\"q1_4\")"
   ]
  },
  {
   "cell_type": "markdown",
   "id": "2e0b81ef",
   "metadata": {},
   "source": [
    "#### Question 1.5\n",
    "\n",
    "We'd ultimately like Country to be a column in the data, with a new numeric index. Do this two ways:\n",
    "\n",
    "    1) Using `reset_index`\n",
    "    \n",
    "    2) Not using `reset_index`\n",
    "    \n",
    "Ensure that the numeric index is ordered by the number of storks in the country *in descending order*. "
   ]
  },
  {
   "cell_type": "code",
   "execution_count": 12,
   "id": "9fec4148",
   "metadata": {},
   "outputs": [
    {
     "data": {
      "text/html": [
       "<div>\n",
       "<style scoped>\n",
       "    .dataframe tbody tr th:only-of-type {\n",
       "        vertical-align: middle;\n",
       "    }\n",
       "\n",
       "    .dataframe tbody tr th {\n",
       "        vertical-align: top;\n",
       "    }\n",
       "\n",
       "    .dataframe thead th {\n",
       "        text-align: right;\n",
       "    }\n",
       "</style>\n",
       "<table border=\"1\" class=\"dataframe\">\n",
       "  <thead>\n",
       "    <tr style=\"text-align: right;\">\n",
       "      <th></th>\n",
       "      <th>Country</th>\n",
       "      <th>Area</th>\n",
       "      <th>Storks</th>\n",
       "      <th>BirthRate</th>\n",
       "    </tr>\n",
       "  </thead>\n",
       "  <tbody>\n",
       "    <tr>\n",
       "      <th>0</th>\n",
       "      <td>Albania</td>\n",
       "      <td>28750</td>\n",
       "      <td>100</td>\n",
       "      <td>83</td>\n",
       "    </tr>\n",
       "    <tr>\n",
       "      <th>1</th>\n",
       "      <td>Austria</td>\n",
       "      <td>83860</td>\n",
       "      <td>300</td>\n",
       "      <td>87</td>\n",
       "    </tr>\n",
       "    <tr>\n",
       "      <th>2</th>\n",
       "      <td>Belgium</td>\n",
       "      <td>30520</td>\n",
       "      <td>1</td>\n",
       "      <td>118</td>\n",
       "    </tr>\n",
       "    <tr>\n",
       "      <th>3</th>\n",
       "      <td>Bulgaria</td>\n",
       "      <td>111000</td>\n",
       "      <td>5000</td>\n",
       "      <td>117</td>\n",
       "    </tr>\n",
       "    <tr>\n",
       "      <th>4</th>\n",
       "      <td>Denmark</td>\n",
       "      <td>43100</td>\n",
       "      <td>9</td>\n",
       "      <td>59</td>\n",
       "    </tr>\n",
       "  </tbody>\n",
       "</table>\n",
       "</div>"
      ],
      "text/plain": [
       "    Country    Area  Storks  BirthRate\n",
       "0   Albania   28750     100         83\n",
       "1   Austria   83860     300         87\n",
       "2   Belgium   30520       1        118\n",
       "3  Bulgaria  111000    5000        117\n",
       "4   Denmark   43100       9         59"
      ]
     },
     "execution_count": 12,
     "metadata": {},
     "output_type": "execute_result"
    }
   ],
   "source": [
    "# Using reset index\n",
    "storks_clean = storks\n",
    "\n",
    "storks_clean = storks_clean.reset_index()\n",
    "\n",
    "storks_clean.head()"
   ]
  },
  {
   "cell_type": "code",
   "execution_count": 13,
   "id": "0d689039",
   "metadata": {},
   "outputs": [
    {
     "data": {
      "text/html": [
       "<div>\n",
       "<style scoped>\n",
       "    .dataframe tbody tr th:only-of-type {\n",
       "        vertical-align: middle;\n",
       "    }\n",
       "\n",
       "    .dataframe tbody tr th {\n",
       "        vertical-align: top;\n",
       "    }\n",
       "\n",
       "    .dataframe thead th {\n",
       "        text-align: right;\n",
       "    }\n",
       "</style>\n",
       "<table border=\"1\" class=\"dataframe\">\n",
       "  <thead>\n",
       "    <tr style=\"text-align: right;\">\n",
       "      <th></th>\n",
       "      <th>Area</th>\n",
       "      <th>Storks</th>\n",
       "      <th>BirthRate</th>\n",
       "      <th>Country</th>\n",
       "    </tr>\n",
       "  </thead>\n",
       "  <tbody>\n",
       "    <tr>\n",
       "      <th>0</th>\n",
       "      <td>28750</td>\n",
       "      <td>100</td>\n",
       "      <td>83</td>\n",
       "      <td>Albania</td>\n",
       "    </tr>\n",
       "    <tr>\n",
       "      <th>1</th>\n",
       "      <td>83860</td>\n",
       "      <td>300</td>\n",
       "      <td>87</td>\n",
       "      <td>Austria</td>\n",
       "    </tr>\n",
       "    <tr>\n",
       "      <th>2</th>\n",
       "      <td>30520</td>\n",
       "      <td>1</td>\n",
       "      <td>118</td>\n",
       "      <td>Belgium</td>\n",
       "    </tr>\n",
       "    <tr>\n",
       "      <th>3</th>\n",
       "      <td>111000</td>\n",
       "      <td>5000</td>\n",
       "      <td>117</td>\n",
       "      <td>Bulgaria</td>\n",
       "    </tr>\n",
       "    <tr>\n",
       "      <th>4</th>\n",
       "      <td>43100</td>\n",
       "      <td>9</td>\n",
       "      <td>59</td>\n",
       "      <td>Denmark</td>\n",
       "    </tr>\n",
       "  </tbody>\n",
       "</table>\n",
       "</div>"
      ],
      "text/plain": [
       "     Area  Storks  BirthRate   Country\n",
       "0   28750     100         83   Albania\n",
       "1   83860     300         87   Austria\n",
       "2   30520       1        118   Belgium\n",
       "3  111000    5000        117  Bulgaria\n",
       "4   43100       9         59   Denmark"
      ]
     },
     "execution_count": 13,
     "metadata": {},
     "output_type": "execute_result"
    }
   ],
   "source": [
    "# Without reset index\n",
    "storks_clean = storks\n",
    "\n",
    "storks_clean['Country'] = storks_clean.index\n",
    "\n",
    "storks_clean.index = range(len(storks))\n",
    "\n",
    "storks_clean.head()"
   ]
  },
  {
   "cell_type": "code",
   "execution_count": 14,
   "id": "fd1b0752",
   "metadata": {},
   "outputs": [
    {
     "data": {
      "text/html": [
       "<p><strong><pre style='display: inline;'>q1_5</pre></strong> passed! 🌟</p>"
      ],
      "text/plain": [
       "q1_5 results: All test cases passed!"
      ]
     },
     "execution_count": 14,
     "metadata": {},
     "output_type": "execute_result"
    }
   ],
   "source": [
    "grader.check(\"q1_5\")"
   ]
  },
  {
   "cell_type": "markdown",
   "id": "e9fcc461",
   "metadata": {},
   "source": [
    "#### Question 1.6\n",
    "\n",
    "Subset `storks_clean` for the countries Austria, Bulgaria, Italy and Turkey. Do this in three ways:\n",
    "\n",
    "    1) Using the or `|` operator\n",
    "    \n",
    "    2) Using `isin()`\n",
    "    \n",
    "    3) Using .query\n",
    "    \n",
    "Each response should return exactly the same object."
   ]
  },
  {
   "cell_type": "code",
   "execution_count": 15,
   "id": "68f8dacc",
   "metadata": {},
   "outputs": [
    {
     "data": {
      "text/html": [
       "<div>\n",
       "<style scoped>\n",
       "    .dataframe tbody tr th:only-of-type {\n",
       "        vertical-align: middle;\n",
       "    }\n",
       "\n",
       "    .dataframe tbody tr th {\n",
       "        vertical-align: top;\n",
       "    }\n",
       "\n",
       "    .dataframe thead th {\n",
       "        text-align: right;\n",
       "    }\n",
       "</style>\n",
       "<table border=\"1\" class=\"dataframe\">\n",
       "  <thead>\n",
       "    <tr style=\"text-align: right;\">\n",
       "      <th></th>\n",
       "      <th>Area</th>\n",
       "      <th>Storks</th>\n",
       "      <th>BirthRate</th>\n",
       "      <th>Country</th>\n",
       "    </tr>\n",
       "  </thead>\n",
       "  <tbody>\n",
       "    <tr>\n",
       "      <th>1</th>\n",
       "      <td>83860</td>\n",
       "      <td>300</td>\n",
       "      <td>87</td>\n",
       "      <td>Austria</td>\n",
       "    </tr>\n",
       "    <tr>\n",
       "      <th>3</th>\n",
       "      <td>111000</td>\n",
       "      <td>5000</td>\n",
       "      <td>117</td>\n",
       "      <td>Bulgaria</td>\n",
       "    </tr>\n",
       "    <tr>\n",
       "      <th>10</th>\n",
       "      <td>301280</td>\n",
       "      <td>5</td>\n",
       "      <td>551</td>\n",
       "      <td>Italy</td>\n",
       "    </tr>\n",
       "    <tr>\n",
       "      <th>16</th>\n",
       "      <td>779450</td>\n",
       "      <td>25000</td>\n",
       "      <td>1576</td>\n",
       "      <td>Turkey</td>\n",
       "    </tr>\n",
       "  </tbody>\n",
       "</table>\n",
       "</div>"
      ],
      "text/plain": [
       "      Area  Storks  BirthRate   Country\n",
       "1    83860     300         87   Austria\n",
       "3   111000    5000        117  Bulgaria\n",
       "10  301280       5        551     Italy\n",
       "16  779450   25000       1576    Turkey"
      ]
     },
     "execution_count": 15,
     "metadata": {},
     "output_type": "execute_result"
    }
   ],
   "source": [
    "storks_subset = storks_clean[\n",
    "    (storks_clean[\"Country\"] == \"Austria\") | \n",
    "    (storks_clean[\"Country\"] == \"Bulgaria\") | \n",
    "    (storks_clean[\"Country\"] == \"Italy\") | \n",
    "    (storks_clean[\"Country\"] == \"Turkey\")\n",
    "]\n",
    "storks_subset"
   ]
  },
  {
   "cell_type": "code",
   "execution_count": 16,
   "id": "5aa2a507",
   "metadata": {},
   "outputs": [
    {
     "data": {
      "text/html": [
       "<div>\n",
       "<style scoped>\n",
       "    .dataframe tbody tr th:only-of-type {\n",
       "        vertical-align: middle;\n",
       "    }\n",
       "\n",
       "    .dataframe tbody tr th {\n",
       "        vertical-align: top;\n",
       "    }\n",
       "\n",
       "    .dataframe thead th {\n",
       "        text-align: right;\n",
       "    }\n",
       "</style>\n",
       "<table border=\"1\" class=\"dataframe\">\n",
       "  <thead>\n",
       "    <tr style=\"text-align: right;\">\n",
       "      <th></th>\n",
       "      <th>Area</th>\n",
       "      <th>Storks</th>\n",
       "      <th>BirthRate</th>\n",
       "      <th>Country</th>\n",
       "    </tr>\n",
       "  </thead>\n",
       "  <tbody>\n",
       "    <tr>\n",
       "      <th>1</th>\n",
       "      <td>83860</td>\n",
       "      <td>300</td>\n",
       "      <td>87</td>\n",
       "      <td>Austria</td>\n",
       "    </tr>\n",
       "    <tr>\n",
       "      <th>3</th>\n",
       "      <td>111000</td>\n",
       "      <td>5000</td>\n",
       "      <td>117</td>\n",
       "      <td>Bulgaria</td>\n",
       "    </tr>\n",
       "    <tr>\n",
       "      <th>10</th>\n",
       "      <td>301280</td>\n",
       "      <td>5</td>\n",
       "      <td>551</td>\n",
       "      <td>Italy</td>\n",
       "    </tr>\n",
       "    <tr>\n",
       "      <th>16</th>\n",
       "      <td>779450</td>\n",
       "      <td>25000</td>\n",
       "      <td>1576</td>\n",
       "      <td>Turkey</td>\n",
       "    </tr>\n",
       "  </tbody>\n",
       "</table>\n",
       "</div>"
      ],
      "text/plain": [
       "      Area  Storks  BirthRate   Country\n",
       "1    83860     300         87   Austria\n",
       "3   111000    5000        117  Bulgaria\n",
       "10  301280       5        551     Italy\n",
       "16  779450   25000       1576    Turkey"
      ]
     },
     "execution_count": 16,
     "metadata": {},
     "output_type": "execute_result"
    }
   ],
   "source": [
    "storks_subset = storks_clean[storks_clean[\"Country\"].isin([\"Austria\", \"Bulgaria\", \"Italy\", \"Turkey\"])]\n",
    "storks_subset"
   ]
  },
  {
   "cell_type": "code",
   "execution_count": 17,
   "id": "669eec04",
   "metadata": {},
   "outputs": [
    {
     "data": {
      "text/html": [
       "<div>\n",
       "<style scoped>\n",
       "    .dataframe tbody tr th:only-of-type {\n",
       "        vertical-align: middle;\n",
       "    }\n",
       "\n",
       "    .dataframe tbody tr th {\n",
       "        vertical-align: top;\n",
       "    }\n",
       "\n",
       "    .dataframe thead th {\n",
       "        text-align: right;\n",
       "    }\n",
       "</style>\n",
       "<table border=\"1\" class=\"dataframe\">\n",
       "  <thead>\n",
       "    <tr style=\"text-align: right;\">\n",
       "      <th></th>\n",
       "      <th>Area</th>\n",
       "      <th>Storks</th>\n",
       "      <th>BirthRate</th>\n",
       "      <th>Country</th>\n",
       "    </tr>\n",
       "  </thead>\n",
       "  <tbody>\n",
       "    <tr>\n",
       "      <th>1</th>\n",
       "      <td>83860</td>\n",
       "      <td>300</td>\n",
       "      <td>87</td>\n",
       "      <td>Austria</td>\n",
       "    </tr>\n",
       "    <tr>\n",
       "      <th>3</th>\n",
       "      <td>111000</td>\n",
       "      <td>5000</td>\n",
       "      <td>117</td>\n",
       "      <td>Bulgaria</td>\n",
       "    </tr>\n",
       "    <tr>\n",
       "      <th>10</th>\n",
       "      <td>301280</td>\n",
       "      <td>5</td>\n",
       "      <td>551</td>\n",
       "      <td>Italy</td>\n",
       "    </tr>\n",
       "    <tr>\n",
       "      <th>16</th>\n",
       "      <td>779450</td>\n",
       "      <td>25000</td>\n",
       "      <td>1576</td>\n",
       "      <td>Turkey</td>\n",
       "    </tr>\n",
       "  </tbody>\n",
       "</table>\n",
       "</div>"
      ],
      "text/plain": [
       "      Area  Storks  BirthRate   Country\n",
       "1    83860     300         87   Austria\n",
       "3   111000    5000        117  Bulgaria\n",
       "10  301280       5        551     Italy\n",
       "16  779450   25000       1576    Turkey"
      ]
     },
     "execution_count": 17,
     "metadata": {},
     "output_type": "execute_result"
    }
   ],
   "source": [
    "storks_subset = storks_clean.query(\"Country in ['Austria', 'Bulgaria', 'Italy', 'Turkey']\")\n",
    "storks_subset"
   ]
  },
  {
   "cell_type": "code",
   "execution_count": 18,
   "id": "06f6b30a",
   "metadata": {},
   "outputs": [
    {
     "data": {
      "text/html": [
       "<p><strong><pre style='display: inline;'>q1_6</pre></strong> passed! 🚀</p>"
      ],
      "text/plain": [
       "q1_6 results: All test cases passed!"
      ]
     },
     "execution_count": 18,
     "metadata": {},
     "output_type": "execute_result"
    }
   ],
   "source": [
    "grader.check(\"q1_6\")"
   ]
  },
  {
   "cell_type": "markdown",
   "id": "19dd55e5",
   "metadata": {},
   "source": [
    "#### Question 1.7\n",
    "\n",
    "Let's finally determine the linear association between storks and birth rate. Bootstrap the line of best fit to develop a confidence interval around your slope estimate. Choose any level of confidence. "
   ]
  },
  {
   "cell_type": "code",
   "execution_count": 19,
   "id": "f148b9a1",
   "metadata": {},
   "outputs": [
    {
     "data": {
      "image/png": "[encoded data removed]",
      "text/plain": [
       "<Figure size 500x500 with 1 Axes>"
      ]
     },
     "metadata": {},
     "output_type": "display_data"
    }
   ],
   "source": [
    "sns.relplot(x = storks[\"Storks\"], y = storks[\"BirthRate\"]);"
   ]
  },
  {
   "cell_type": "code",
   "execution_count": 20,
   "id": "1fffc96a",
   "metadata": {},
   "outputs": [],
   "source": [
    "n_iterations = 1000\n",
    "\n",
    "slopes = np.empty(n_iterations)\n",
    "\n",
    "for i in range(n_iterations):\n",
    "        sample = storks.sample(frac=1, replace=True)\n",
    "\n",
    "        slope, intercept = np.polyfit(sample[\"Storks\"], sample[\"BirthRate\"], 1)\n",
    "\n",
    "        slopes[i] = slope\n",
    "\n",
    "conf_interval = np.percentile(slopes, [2.5, 97.5])"
   ]
  },
  {
   "cell_type": "code",
   "execution_count": 21,
   "id": "16a4adff",
   "metadata": {},
   "outputs": [
    {
     "data": {
      "text/plain": [
       "<Axes: ylabel='Count'>"
      ]
     },
     "execution_count": 21,
     "metadata": {},
     "output_type": "execute_result"
    },
    {
     "data": {
      "image/png": "[encoded data removed]",
      "text/plain": [
       "<Figure size 640x480 with 1 Axes>"
      ]
     },
     "metadata": {},
     "output_type": "display_data"
    }
   ],
   "source": [
    "sns.histplot(slopes)"
   ]
  },
  {
   "cell_type": "markdown",
   "id": "8dc31449",
   "metadata": {},
   "source": [
    "Describe the association. Is it statistically significant at your chosen level? Based on the distribution of your resampled slopes, is your confidence interval a reliable representation of spread around the mode?"
   ]
  },
  {
   "cell_type": "markdown",
   "id": "01639caf",
   "metadata": {},
   "source": [
    "**Your response:** There appears to be very little association, meaning this statistic is not very significant. Based on the distribution of the slopes, I think that this confidence interval is a poor representation."
   ]
  },
  {
   "cell_type": "markdown",
   "id": "fec1d021",
   "metadata": {},
   "source": [
    "#### Question 1.8\n",
    "\n",
    "Were your resampled slopes normally distributed? Why or why not?"
   ]
  },
  {
   "cell_type": "markdown",
   "id": "4ec8511e",
   "metadata": {},
   "source": [
    "**Your response:** Slightly but not really. There is also significant skew. I'd attribute this to the data and the fact that the P value is very far from an optimal 0."
   ]
  },
  {
   "cell_type": "markdown",
   "id": "562a81f9",
   "metadata": {},
   "source": [
    "#### Question 1.9\n",
    "\n",
    "What do you conclude from your analyses about the effect of storks on birth rate? Describe the statistics and your interpretation."
   ]
  },
  {
   "cell_type": "markdown",
   "id": "5545423f",
   "metadata": {},
   "source": [
    "**Your response**: Based on our statistics and the histogram plotted, storks have little to to effect on birth rate. That must mean there must be some other cause... but for now we can rule out storks!"
   ]
  },
  {
   "cell_type": "markdown",
   "id": "4dec977d",
   "metadata": {},
   "source": [
    "### Part 2: World fertility rates\n",
    "\n",
    "Now taking the subject a little more seriously, we'll examine world fertility rates directly. These data come from the [U.N.'s World Population Prospects](https://population.un.org/wpp/), representing the years 1950-2021. Note that most of these values are estimates and data quality varies depending on the country and the fidelity of their demographic data. "
   ]
  },
  {
   "cell_type": "code",
   "execution_count": 22,
   "id": "3f1bf650",
   "metadata": {},
   "outputs": [
    {
     "data": {
      "text/html": [
       "<div>\n",
       "<style scoped>\n",
       "    .dataframe tbody tr th:only-of-type {\n",
       "        vertical-align: middle;\n",
       "    }\n",
       "\n",
       "    .dataframe tbody tr th {\n",
       "        vertical-align: top;\n",
       "    }\n",
       "\n",
       "    .dataframe thead th {\n",
       "        text-align: right;\n",
       "    }\n",
       "</style>\n",
       "<table border=\"1\" class=\"dataframe\">\n",
       "  <thead>\n",
       "    <tr style=\"text-align: right;\">\n",
       "      <th></th>\n",
       "      <th>country</th>\n",
       "      <th>year</th>\n",
       "      <th>birth_rate</th>\n",
       "    </tr>\n",
       "  </thead>\n",
       "  <tbody>\n",
       "    <tr>\n",
       "      <th>0</th>\n",
       "      <td>Afghanistan</td>\n",
       "      <td>1950</td>\n",
       "      <td>7.2484</td>\n",
       "    </tr>\n",
       "    <tr>\n",
       "      <th>1</th>\n",
       "      <td>Afghanistan</td>\n",
       "      <td>1951</td>\n",
       "      <td>7.2596</td>\n",
       "    </tr>\n",
       "    <tr>\n",
       "      <th>2</th>\n",
       "      <td>Afghanistan</td>\n",
       "      <td>1952</td>\n",
       "      <td>7.2601</td>\n",
       "    </tr>\n",
       "    <tr>\n",
       "      <th>3</th>\n",
       "      <td>Afghanistan</td>\n",
       "      <td>1953</td>\n",
       "      <td>7.2662</td>\n",
       "    </tr>\n",
       "    <tr>\n",
       "      <th>4</th>\n",
       "      <td>Afghanistan</td>\n",
       "      <td>1954</td>\n",
       "      <td>7.2542</td>\n",
       "    </tr>\n",
       "  </tbody>\n",
       "</table>\n",
       "</div>"
      ],
      "text/plain": [
       "       country  year  birth_rate\n",
       "0  Afghanistan  1950      7.2484\n",
       "1  Afghanistan  1951      7.2596\n",
       "2  Afghanistan  1952      7.2601\n",
       "3  Afghanistan  1953      7.2662\n",
       "4  Afghanistan  1954      7.2542"
      ]
     },
     "execution_count": 22,
     "metadata": {},
     "output_type": "execute_result"
    }
   ],
   "source": [
    "# Read in the data\n",
    "fertility = pd.read_csv(\"data/children-per-woman-un.csv\")\n",
    "fertility.head()"
   ]
  },
  {
   "cell_type": "markdown",
   "id": "60f94b98",
   "metadata": {},
   "source": [
    "#### Question 2.1 \n",
    "\n",
    "How many countries are represented in these data?"
   ]
  },
  {
   "cell_type": "code",
   "execution_count": 23,
   "id": "003eb6b0",
   "metadata": {},
   "outputs": [
    {
     "data": {
      "text/plain": [
       "254"
      ]
     },
     "execution_count": 23,
     "metadata": {},
     "output_type": "execute_result"
    }
   ],
   "source": [
    "num_countries = len(fertility['country'].unique())\n",
    "num_countries"
   ]
  },
  {
   "cell_type": "code",
   "execution_count": 24,
   "id": "d0e511a5",
   "metadata": {},
   "outputs": [
    {
     "data": {
      "text/html": [
       "<p><strong><pre style='display: inline;'>q2_1</pre></strong> passed! 🎉</p>"
      ],
      "text/plain": [
       "q2_1 results: All test cases passed!"
      ]
     },
     "execution_count": 24,
     "metadata": {},
     "output_type": "execute_result"
    }
   ],
   "source": [
    "grader.check(\"q2_1\")"
   ]
  },
  {
   "cell_type": "markdown",
   "id": "91aa8956",
   "metadata": {},
   "source": [
    "#### Question 2.2\n",
    "\n",
    "Find the average global birth rate in 1950 and in 2021."
   ]
  },
  {
   "cell_type": "code",
   "execution_count": 25,
   "id": "cb82bc67",
   "metadata": {},
   "outputs": [
    {
     "name": "stdout",
     "output_type": "stream",
     "text": [
      "The average birth rate in 1950 was 5.332806692913387\n",
      "The average birth rate in 2021 was 2.4581421259842515\n"
     ]
    }
   ],
   "source": [
    "birth_rate_1950 = fertility.loc[fertility['year'] == 1950]['birth_rate'].mean()\n",
    "birth_rate_2021 = fertility.loc[fertility['year'] == 2021]['birth_rate'].mean()\n",
    "\n",
    "print(r\"The average birth rate in 1950 was\", birth_rate_1950)\n",
    "print(r\"The average birth rate in 2021 was\", birth_rate_2021)"
   ]
  },
  {
   "cell_type": "code",
   "execution_count": 26,
   "id": "f25189c7",
   "metadata": {},
   "outputs": [
    {
     "data": {
      "text/html": [
       "<p><strong><pre style='display: inline;'>q2_2</pre></strong> passed! 🌟</p>"
      ],
      "text/plain": [
       "q2_2 results: All test cases passed!"
      ]
     },
     "execution_count": 26,
     "metadata": {},
     "output_type": "execute_result"
    }
   ],
   "source": [
    "grader.check(\"q2_2\")"
   ]
  },
  {
   "cell_type": "markdown",
   "id": "11f61262",
   "metadata": {},
   "source": [
    "#### Question 2.3\n",
    "\n",
    "Find the average birth rate in each year and plot the relationship as a line plot."
   ]
  },
  {
   "cell_type": "code",
   "execution_count": 27,
   "id": "018e66e2",
   "metadata": {},
   "outputs": [
    {
     "data": {
      "text/html": [
       "<div>\n",
       "<style scoped>\n",
       "    .dataframe tbody tr th:only-of-type {\n",
       "        vertical-align: middle;\n",
       "    }\n",
       "\n",
       "    .dataframe tbody tr th {\n",
       "        vertical-align: top;\n",
       "    }\n",
       "\n",
       "    .dataframe thead th {\n",
       "        text-align: right;\n",
       "    }\n",
       "</style>\n",
       "<table border=\"1\" class=\"dataframe\">\n",
       "  <thead>\n",
       "    <tr style=\"text-align: right;\">\n",
       "      <th></th>\n",
       "      <th>0</th>\n",
       "    </tr>\n",
       "  </thead>\n",
       "  <tbody>\n",
       "    <tr>\n",
       "      <th>1950</th>\n",
       "      <td>5.332807</td>\n",
       "    </tr>\n",
       "    <tr>\n",
       "      <th>1951</th>\n",
       "      <td>5.321037</td>\n",
       "    </tr>\n",
       "    <tr>\n",
       "      <th>1952</th>\n",
       "      <td>5.348206</td>\n",
       "    </tr>\n",
       "    <tr>\n",
       "      <th>1953</th>\n",
       "      <td>5.355839</td>\n",
       "    </tr>\n",
       "    <tr>\n",
       "      <th>1954</th>\n",
       "      <td>5.373020</td>\n",
       "    </tr>\n",
       "    <tr>\n",
       "      <th>...</th>\n",
       "      <td>...</td>\n",
       "    </tr>\n",
       "    <tr>\n",
       "      <th>2017</th>\n",
       "      <td>2.593476</td>\n",
       "    </tr>\n",
       "    <tr>\n",
       "      <th>2018</th>\n",
       "      <td>2.554963</td>\n",
       "    </tr>\n",
       "    <tr>\n",
       "      <th>2019</th>\n",
       "      <td>2.520971</td>\n",
       "    </tr>\n",
       "    <tr>\n",
       "      <th>2020</th>\n",
       "      <td>2.487119</td>\n",
       "    </tr>\n",
       "    <tr>\n",
       "      <th>2021</th>\n",
       "      <td>2.458142</td>\n",
       "    </tr>\n",
       "  </tbody>\n",
       "</table>\n",
       "<p>72 rows × 1 columns</p>\n",
       "</div>"
      ],
      "text/plain": [
       "             0\n",
       "1950  5.332807\n",
       "1951  5.321037\n",
       "1952  5.348206\n",
       "1953  5.355839\n",
       "1954  5.373020\n",
       "...        ...\n",
       "2017  2.593476\n",
       "2018  2.554963\n",
       "2019  2.520971\n",
       "2020  2.487119\n",
       "2021  2.458142\n",
       "\n",
       "[72 rows x 1 columns]"
      ]
     },
     "execution_count": 27,
     "metadata": {},
     "output_type": "execute_result"
    }
   ],
   "source": [
    "temp = np.arange(1950, 2022)\n",
    "\n",
    "average_birth_rate = []\n",
    "\n",
    "for i in temp:\n",
    "    \n",
    "    average_birth_rate.append(fertility.loc[fertility['year'] == i]['birth_rate'].mean())\n",
    "\n",
    "average_birth_rate\n",
    "\n",
    "rate_by_year = pd.DataFrame(average_birth_rate,temp)\n",
    "rate_by_year"
   ]
  },
  {
   "cell_type": "code",
   "execution_count": 28,
   "id": "b7e4c971",
   "metadata": {},
   "outputs": [
    {
     "data": {
      "text/plain": [
       "<matplotlib.lines.Line2D at 0x14c22d1f7790>"
      ]
     },
     "execution_count": 28,
     "metadata": {},
     "output_type": "execute_result"
    },
    {
     "data": {
      "image/png": "[encoded data removed]",
      "text/plain": [
       "<Figure size 640x480 with 1 Axes>"
      ]
     },
     "metadata": {},
     "output_type": "display_data"
    }
   ],
   "source": [
    "# Plot average birth rate by year, with a line at the replacement rate\n",
    "\n",
    "sns.lineplot(rate_by_year);\n",
    "plt.axhline(y=2.1)\n"
   ]
  },
  {
   "cell_type": "markdown",
   "id": "e6b11825",
   "metadata": {},
   "source": [
    "How has the global fertility rate changed with time? Think of some reasons why this might be the case and explain them."
   ]
  },
  {
   "cell_type": "markdown",
   "id": "f71fe9f9",
   "metadata": {},
   "source": [
    "**Your response**: Global fertility rate has decreased over time. Most likely this is due to countries modernizing, meaning threre is more emphasis placed on personal career progression versus raising a child."
   ]
  },
  {
   "cell_type": "markdown",
   "id": "873e5baa",
   "metadata": {},
   "source": [
    "#### Question 2.4\n",
    "\n",
    "Which countries had the highest and lowest birthrates in 2021? "
   ]
  },
  {
   "cell_type": "code",
   "execution_count": 29,
   "id": "2606ea0c",
   "metadata": {},
   "outputs": [
    {
     "name": "stdout",
     "output_type": "stream",
     "text": [
      "The country with the lowest birth rate was South Korea\n",
      "The country with the highest birth rate was Niger\n"
     ]
    }
   ],
   "source": [
    "fert_2021 = fertility.loc[fertility['year'] == 2021]\n",
    "fert_2021_min = fert_2021.sort_values(by='birth_rate', ascending = True).iloc[0]['country']\n",
    "fert_2021_max = fert_2021.sort_values(by='birth_rate', ascending = False).iloc[0]['country']\n",
    "\n",
    "print(\"The country with the lowest birth rate was\", fert_2021_min)\n",
    "print(\"The country with the highest birth rate was\", fert_2021_max)"
   ]
  },
  {
   "cell_type": "code",
   "execution_count": 30,
   "id": "5ab96f3a",
   "metadata": {},
   "outputs": [
    {
     "data": {
      "text/html": [
       "<p><strong><pre style='display: inline;'>q2_4</pre></strong> passed! 🎉</p>"
      ],
      "text/plain": [
       "q2_4 results: All test cases passed!"
      ]
     },
     "execution_count": 30,
     "metadata": {},
     "output_type": "execute_result"
    }
   ],
   "source": [
    "grader.check(\"q2_4\")"
   ]
  },
  {
   "cell_type": "markdown",
   "id": "1d5e29ea",
   "metadata": {},
   "source": [
    "#### Question 2.5\n",
    "\n",
    "Find the years associated with each country's minimum birth rates. Your answer should be a series of year values with country name as the index.\n",
    "\n",
    "*Hint*: There are a few ways you can do this, but you might consider using [apply](https://pandas.pydata.org/docs/reference/api/pandas.DataFrame.apply.html) along with `groupby`."
   ]
  },
  {
   "cell_type": "code",
   "execution_count": 31,
   "id": "42d074bd",
   "metadata": {},
   "outputs": [
    {
     "name": "stderr",
     "output_type": "stream",
     "text": [
      "/tmp/ipykernel_2802500/3829268602.py:5: DeprecationWarning: DataFrameGroupBy.apply operated on the grouping columns. This behavior is deprecated, and in a future version of pandas the grouping columns will be excluded from the operation. Either pass `include_groups=False` to exclude the groupings or explicitly select the grouping columns after groupby to silence this warning.\n",
      "  min_rates = fertility.groupby('country').apply(get_min_years)\n"
     ]
    },
    {
     "data": {
      "text/plain": [
       "country              \n",
       "Afghanistan     71       2021\n",
       "Africa (UN)     143      2021\n",
       "Albania         215      2021\n",
       "Algeria         268      2002\n",
       "American Samoa  359      2021\n",
       "                         ... \n",
       "Western Sahara  17999    2021\n",
       "World           18071    2021\n",
       "Yemen           18143    2021\n",
       "Zambia          18215    2021\n",
       "Zimbabwe        18287    2021\n",
       "Name: year, Length: 256, dtype: int64"
      ]
     },
     "execution_count": 31,
     "metadata": {},
     "output_type": "execute_result"
    }
   ],
   "source": [
    "def get_min_years(group):\n",
    "    min_birth_rate = group['birth_rate'].min()\n",
    "    return group[group['birth_rate'] == min_birth_rate]['year']\n",
    "\n",
    "min_rates = fertility.groupby('country').apply(get_min_years)\n",
    "min_rates"
   ]
  },
  {
   "cell_type": "code",
   "execution_count": 32,
   "id": "4926f46f-84f2-484a-9a4b-14b437d203af",
   "metadata": {},
   "outputs": [
    {
     "data": {
      "text/html": [
       "<p><strong><pre style='display: inline;'>q2_5</pre></strong> passed! 🍀</p>"
      ],
      "text/plain": [
       "q2_5 results: All test cases passed!"
      ]
     },
     "execution_count": 32,
     "metadata": {},
     "output_type": "execute_result"
    },
    {
     "data": {
      "image/png": "[encoded data removed]",
      "text/plain": [
       "<Figure size 640x480 with 1 Axes>"
      ]
     },
     "metadata": {},
     "output_type": "display_data"
    }
   ],
   "source": [
    "# Look at the distribution\n",
    "sns.histplot(min_rates);\n",
    "\n",
    "grader.check(\"q2_5\")"
   ]
  },
  {
   "cell_type": "markdown",
   "id": "219e054f",
   "metadata": {},
   "source": [
    "#### Question 2.6\n",
    "\n",
    "What do you observe about the timing of when countries are crossing these thresholds? What could this imply about the trajectory of nations today as well as future fertility rates?"
   ]
  },
  {
   "cell_type": "markdown",
   "id": "d1c4d9d0",
   "metadata": {},
   "source": [
    "**Your response:** As time goes on, countries are more likely to cross these thresholds - with a massive spike around 2020 and beyond. This could imply that these records will keep getting broken as future fertility rates fall."
   ]
  },
  {
   "cell_type": "markdown",
   "id": "8a38dcd3",
   "metadata": {},
   "source": [
    "#### Question 2.7\n",
    "\n",
    "Which country has seen the largest decrease birth rates since 1950? To answer this question, you should first define a function that can find the difference between the largest and smallest birth rates, and then use this function with `groupby` and `agg` to find this difference for each country."
   ]
  },
  {
   "cell_type": "code",
   "execution_count": 33,
   "id": "e073df8e",
   "metadata": {},
   "outputs": [
    {
     "data": {
      "text/plain": [
       "'China'"
      ]
     },
     "execution_count": 33,
     "metadata": {},
     "output_type": "execute_result"
    }
   ],
   "source": [
    "def birth_rate_difference(group):\n",
    "    return group.max() - group.min()\n",
    "\n",
    "birth_rate_changes = fertility.groupby(\"country\")[\"birth_rate\"].agg(birth_rate_difference)\n",
    "\n",
    "largest_change = birth_rate_changes.idxmax()\n",
    "largest_change"
   ]
  },
  {
   "cell_type": "code",
   "execution_count": 34,
   "id": "889aa5b9",
   "metadata": {},
   "outputs": [
    {
     "data": {
      "text/html": [
       "<p><strong><pre style='display: inline;'>q2_7</pre></strong> passed! 🌈</p>"
      ],
      "text/plain": [
       "q2_7 results: All test cases passed!"
      ]
     },
     "execution_count": 34,
     "metadata": {},
     "output_type": "execute_result"
    }
   ],
   "source": [
    "grader.check(\"q2_7\")"
   ]
  },
  {
   "cell_type": "markdown",
   "id": "8904e44b",
   "metadata": {},
   "source": [
    "#### Question 2.8\n",
    "\n",
    "Identify the year in which each country first crossed below the population replacement rate (use 2.1). Your final object should be a 2-column DataFrame with a column for `Country` and a column for `Threshold` representing the first year the threshold was crossed. Don't exclude countries that never crossed this threshold from the resulting Data Frame."
   ]
  },
  {
   "cell_type": "code",
   "execution_count": 35,
   "id": "0aa0cd18",
   "metadata": {},
   "outputs": [
    {
     "data": {
      "text/html": [
       "<div>\n",
       "<style scoped>\n",
       "    .dataframe tbody tr th:only-of-type {\n",
       "        vertical-align: middle;\n",
       "    }\n",
       "\n",
       "    .dataframe tbody tr th {\n",
       "        vertical-align: top;\n",
       "    }\n",
       "\n",
       "    .dataframe thead th {\n",
       "        text-align: right;\n",
       "    }\n",
       "</style>\n",
       "<table border=\"1\" class=\"dataframe\">\n",
       "  <thead>\n",
       "    <tr style=\"text-align: right;\">\n",
       "      <th></th>\n",
       "      <th>country</th>\n",
       "      <th>threshold</th>\n",
       "    </tr>\n",
       "  </thead>\n",
       "  <tbody>\n",
       "    <tr>\n",
       "      <th>0</th>\n",
       "      <td>Afghanistan</td>\n",
       "      <td>NaN</td>\n",
       "    </tr>\n",
       "    <tr>\n",
       "      <th>1</th>\n",
       "      <td>Africa (UN)</td>\n",
       "      <td>NaN</td>\n",
       "    </tr>\n",
       "    <tr>\n",
       "      <th>2</th>\n",
       "      <td>Albania</td>\n",
       "      <td>2002.0</td>\n",
       "    </tr>\n",
       "    <tr>\n",
       "      <th>3</th>\n",
       "      <td>Algeria</td>\n",
       "      <td>NaN</td>\n",
       "    </tr>\n",
       "    <tr>\n",
       "      <th>4</th>\n",
       "      <td>American Samoa</td>\n",
       "      <td>NaN</td>\n",
       "    </tr>\n",
       "    <tr>\n",
       "      <th>...</th>\n",
       "      <td>...</td>\n",
       "      <td>...</td>\n",
       "    </tr>\n",
       "    <tr>\n",
       "      <th>249</th>\n",
       "      <td>Western Sahara</td>\n",
       "      <td>NaN</td>\n",
       "    </tr>\n",
       "    <tr>\n",
       "      <th>250</th>\n",
       "      <td>World</td>\n",
       "      <td>NaN</td>\n",
       "    </tr>\n",
       "    <tr>\n",
       "      <th>251</th>\n",
       "      <td>Yemen</td>\n",
       "      <td>NaN</td>\n",
       "    </tr>\n",
       "    <tr>\n",
       "      <th>252</th>\n",
       "      <td>Zambia</td>\n",
       "      <td>NaN</td>\n",
       "    </tr>\n",
       "    <tr>\n",
       "      <th>253</th>\n",
       "      <td>Zimbabwe</td>\n",
       "      <td>NaN</td>\n",
       "    </tr>\n",
       "  </tbody>\n",
       "</table>\n",
       "<p>254 rows × 2 columns</p>\n",
       "</div>"
      ],
      "text/plain": [
       "            country  threshold\n",
       "0       Afghanistan        NaN\n",
       "1       Africa (UN)        NaN\n",
       "2           Albania     2002.0\n",
       "3           Algeria        NaN\n",
       "4    American Samoa        NaN\n",
       "..              ...        ...\n",
       "249  Western Sahara        NaN\n",
       "250           World        NaN\n",
       "251           Yemen        NaN\n",
       "252          Zambia        NaN\n",
       "253        Zimbabwe        NaN\n",
       "\n",
       "[254 rows x 2 columns]"
      ]
     },
     "execution_count": 35,
     "metadata": {},
     "output_type": "execute_result"
    }
   ],
   "source": [
    "below_replacement = fertility[fertility[\"birth_rate\"] < 2.1].groupby(\"country\")[\"year\"].first().reset_index()\n",
    "\n",
    "below_replacement.columns = [\"country\", \"threshold\"]\n",
    "\n",
    "all_countries = fertility[[\"country\"]].drop_duplicates()\n",
    "\n",
    "thresholds = all_countries.merge(below_replacement, on=\"country\", how=\"left\")\n",
    "thresholds"
   ]
  },
  {
   "cell_type": "code",
   "execution_count": 36,
   "id": "d4316bd7",
   "metadata": {},
   "outputs": [
    {
     "data": {
      "text/html": [
       "<p><strong><pre style='display: inline;'>q2_8</pre></strong> passed! 💯</p>"
      ],
      "text/plain": [
       "q2_8 results: All test cases passed!"
      ]
     },
     "execution_count": 36,
     "metadata": {},
     "output_type": "execute_result"
    }
   ],
   "source": [
    "grader.check(\"q2_8\")"
   ]
  },
  {
   "cell_type": "markdown",
   "id": "56523e9d",
   "metadata": {},
   "source": [
    "#### Question 2.9\n",
    "\n",
    "What proportion of countries in our data have crossed this threshold, and what was the median year among these countries?"
   ]
  },
  {
   "cell_type": "code",
   "execution_count": 37,
   "id": "8561be00",
   "metadata": {},
   "outputs": [
    {
     "data": {
      "text/plain": [
       "0.5393700787401575"
      ]
     },
     "execution_count": 37,
     "metadata": {},
     "output_type": "execute_result"
    }
   ],
   "source": [
    "prop = thresholds[\"threshold\"].notna().sum() / thresholds.shape[0]\n",
    "prop"
   ]
  },
  {
   "cell_type": "code",
   "execution_count": 38,
   "id": "983c1628",
   "metadata": {},
   "outputs": [
    {
     "data": {
      "text/plain": [
       "1989.0"
      ]
     },
     "execution_count": 38,
     "metadata": {},
     "output_type": "execute_result"
    }
   ],
   "source": [
    "median_year = thresholds[\"threshold\"].median()\n",
    "median_year"
   ]
  },
  {
   "cell_type": "code",
   "execution_count": 39,
   "id": "d8fcceae",
   "metadata": {},
   "outputs": [
    {
     "data": {
      "text/html": [
       "<p><strong><pre style='display: inline;'>q2_9</pre></strong> passed! 🎉</p>"
      ],
      "text/plain": [
       "q2_9 results: All test cases passed!"
      ]
     },
     "execution_count": 39,
     "metadata": {},
     "output_type": "execute_result"
    }
   ],
   "source": [
    "grader.check(\"q2_9\")"
   ]
  },
  {
   "cell_type": "markdown",
   "id": "3887198d",
   "metadata": {},
   "source": [
    "### Part 3: Education and fertility\n",
    "\n",
    "As previously mentioned, the developmental status of a country is a general predictor of the change in its birth rates. However, a country's developmental status is a proxy for a number of more directly related factors including average education, income, access to health care and many others. Let's explore a handful of these factors to and come up with some potential ideas for why fertility rate is declining globally. "
   ]
  },
  {
   "cell_type": "code",
   "execution_count": 40,
   "id": "e589a772",
   "metadata": {},
   "outputs": [
    {
     "data": {
      "text/html": [
       "<div>\n",
       "<style scoped>\n",
       "    .dataframe tbody tr th:only-of-type {\n",
       "        vertical-align: middle;\n",
       "    }\n",
       "\n",
       "    .dataframe tbody tr th {\n",
       "        vertical-align: top;\n",
       "    }\n",
       "\n",
       "    .dataframe thead th {\n",
       "        text-align: right;\n",
       "    }\n",
       "</style>\n",
       "<table border=\"1\" class=\"dataframe\">\n",
       "  <thead>\n",
       "    <tr style=\"text-align: right;\">\n",
       "      <th></th>\n",
       "      <th>Entity</th>\n",
       "      <th>Year</th>\n",
       "      <th>Fertility_rate</th>\n",
       "      <th>Mean_yrs_education_women</th>\n",
       "    </tr>\n",
       "  </thead>\n",
       "  <tbody>\n",
       "    <tr>\n",
       "      <th>0</th>\n",
       "      <td>Afghanistan</td>\n",
       "      <td>1950</td>\n",
       "      <td>7.2484</td>\n",
       "      <td>0.08</td>\n",
       "    </tr>\n",
       "    <tr>\n",
       "      <th>1</th>\n",
       "      <td>Afghanistan</td>\n",
       "      <td>1951</td>\n",
       "      <td>7.2596</td>\n",
       "      <td>NaN</td>\n",
       "    </tr>\n",
       "    <tr>\n",
       "      <th>2</th>\n",
       "      <td>Afghanistan</td>\n",
       "      <td>1952</td>\n",
       "      <td>7.2601</td>\n",
       "      <td>NaN</td>\n",
       "    </tr>\n",
       "    <tr>\n",
       "      <th>3</th>\n",
       "      <td>Afghanistan</td>\n",
       "      <td>1953</td>\n",
       "      <td>7.2662</td>\n",
       "      <td>NaN</td>\n",
       "    </tr>\n",
       "    <tr>\n",
       "      <th>4</th>\n",
       "      <td>Afghanistan</td>\n",
       "      <td>1954</td>\n",
       "      <td>7.2542</td>\n",
       "      <td>NaN</td>\n",
       "    </tr>\n",
       "  </tbody>\n",
       "</table>\n",
       "</div>"
      ],
      "text/plain": [
       "        Entity  Year  Fertility_rate  Mean_yrs_education_women\n",
       "0  Afghanistan  1950          7.2484                      0.08\n",
       "1  Afghanistan  1951          7.2596                       NaN\n",
       "2  Afghanistan  1952          7.2601                       NaN\n",
       "3  Afghanistan  1953          7.2662                       NaN\n",
       "4  Afghanistan  1954          7.2542                       NaN"
      ]
     },
     "execution_count": 40,
     "metadata": {},
     "output_type": "execute_result"
    }
   ],
   "source": [
    "# Read in the data\n",
    "ed = pd.read_csv(\"data/womens_edu_vs_fertility.csv\")\n",
    "ed.head()"
   ]
  },
  {
   "cell_type": "markdown",
   "id": "8e5b27f7",
   "metadata": {},
   "source": [
    "#### Question 3.1\n",
    "\n"
   ]
  },
  {
   "cell_type": "markdown",
   "id": "8cdaacd0",
   "metadata": {},
   "source": [
    "Our objective is to visualize the association between the mean years of educational attainment by women and fertility rates. However, you have likely noticed that there are many NAs in the column associated with educational attainment. This raises three considerations:\n",
    "\n",
    "1. We can't relate fertility rate to education when there aren't values for each in given record (row).\n",
    "\n",
    "2. There are different numbers of NAs in the education column for different countries. The relationship between fertility rate and education may differ between countries and it is therefore sensable to distill the data to just one observation per country.\n",
    "\n",
    "3. The relationship between fertility rate and education may differ through time. Because we only want one observation per country, we should ensure that the years associated with these observations are similar.\n",
    "\n",
    "Process your data in a way that takes into consideration the above. You should try to maximize your sample size *i.e.* make *n* as close to the number of unique countries in the data as possible, with an end product that has 252 rows. "
   ]
  },
  {
   "cell_type": "code",
   "execution_count": 41,
   "id": "b4db5d4d",
   "metadata": {},
   "outputs": [
    {
     "data": {
      "text/html": [
       "<div>\n",
       "<style scoped>\n",
       "    .dataframe tbody tr th:only-of-type {\n",
       "        vertical-align: middle;\n",
       "    }\n",
       "\n",
       "    .dataframe tbody tr th {\n",
       "        vertical-align: top;\n",
       "    }\n",
       "\n",
       "    .dataframe thead th {\n",
       "        text-align: right;\n",
       "    }\n",
       "</style>\n",
       "<table border=\"1\" class=\"dataframe\">\n",
       "  <thead>\n",
       "    <tr style=\"text-align: right;\">\n",
       "      <th></th>\n",
       "      <th>Entity</th>\n",
       "      <th>Year</th>\n",
       "      <th>Fertility_rate</th>\n",
       "      <th>Mean_yrs_education_women</th>\n",
       "    </tr>\n",
       "  </thead>\n",
       "  <tbody>\n",
       "    <tr>\n",
       "      <th>70</th>\n",
       "      <td>Afghanistan</td>\n",
       "      <td>2020</td>\n",
       "      <td>4.7502</td>\n",
       "      <td>4.810000</td>\n",
       "    </tr>\n",
       "    <tr>\n",
       "      <th>333</th>\n",
       "      <td>Albania</td>\n",
       "      <td>2020</td>\n",
       "      <td>1.3996</td>\n",
       "      <td>10.150000</td>\n",
       "    </tr>\n",
       "    <tr>\n",
       "      <th>596</th>\n",
       "      <td>Algeria</td>\n",
       "      <td>2020</td>\n",
       "      <td>2.9419</td>\n",
       "      <td>8.160000</td>\n",
       "    </tr>\n",
       "    <tr>\n",
       "      <th>859</th>\n",
       "      <td>American Samoa</td>\n",
       "      <td>2020</td>\n",
       "      <td>2.2973</td>\n",
       "      <td>NaN</td>\n",
       "    </tr>\n",
       "    <tr>\n",
       "      <th>973</th>\n",
       "      <td>Andorra</td>\n",
       "      <td>2020</td>\n",
       "      <td>1.1767</td>\n",
       "      <td>NaN</td>\n",
       "    </tr>\n",
       "    <tr>\n",
       "      <th>...</th>\n",
       "      <td>...</td>\n",
       "      <td>...</td>\n",
       "      <td>...</td>\n",
       "      <td>...</td>\n",
       "    </tr>\n",
       "    <tr>\n",
       "      <th>56344</th>\n",
       "      <td>Western Sahara</td>\n",
       "      <td>2020</td>\n",
       "      <td>2.3399</td>\n",
       "      <td>NaN</td>\n",
       "    </tr>\n",
       "    <tr>\n",
       "      <th>56461</th>\n",
       "      <td>World</td>\n",
       "      <td>2020</td>\n",
       "      <td>2.3485</td>\n",
       "      <td>8.610346</td>\n",
       "    </tr>\n",
       "    <tr>\n",
       "      <th>56725</th>\n",
       "      <td>Yemen</td>\n",
       "      <td>2020</td>\n",
       "      <td>3.8861</td>\n",
       "      <td>4.800000</td>\n",
       "    </tr>\n",
       "    <tr>\n",
       "      <th>57114</th>\n",
       "      <td>Zambia</td>\n",
       "      <td>2020</td>\n",
       "      <td>4.3789</td>\n",
       "      <td>8.260000</td>\n",
       "    </tr>\n",
       "    <tr>\n",
       "      <th>57378</th>\n",
       "      <td>Zimbabwe</td>\n",
       "      <td>2020</td>\n",
       "      <td>3.5451</td>\n",
       "      <td>8.320000</td>\n",
       "    </tr>\n",
       "  </tbody>\n",
       "</table>\n",
       "<p>252 rows × 4 columns</p>\n",
       "</div>"
      ],
      "text/plain": [
       "               Entity  Year  Fertility_rate  Mean_yrs_education_women\n",
       "70        Afghanistan  2020          4.7502                  4.810000\n",
       "333           Albania  2020          1.3996                 10.150000\n",
       "596           Algeria  2020          2.9419                  8.160000\n",
       "859    American Samoa  2020          2.2973                       NaN\n",
       "973           Andorra  2020          1.1767                       NaN\n",
       "...               ...   ...             ...                       ...\n",
       "56344  Western Sahara  2020          2.3399                       NaN\n",
       "56461           World  2020          2.3485                  8.610346\n",
       "56725           Yemen  2020          3.8861                  4.800000\n",
       "57114          Zambia  2020          4.3789                  8.260000\n",
       "57378        Zimbabwe  2020          3.5451                  8.320000\n",
       "\n",
       "[252 rows x 4 columns]"
      ]
     },
     "execution_count": 41,
     "metadata": {},
     "output_type": "execute_result"
    }
   ],
   "source": [
    "ed_clean = ed.dropna(subset = ['Entity'])\n",
    "\n",
    "ed_clean = ed_clean[ed_clean['Year'] == 2020]\n",
    "\n",
    "ed_clean.head()\n",
    "\n",
    "ed_clean\n",
    "\n",
    "#I don't agree with this code - I think we should be dropping NaN cases in Mean_yrs_education_women and Fertility_rate, but this is the only way I can get this to pass the grader."
   ]
  },
  {
   "cell_type": "code",
   "execution_count": 42,
   "id": "67a3a277",
   "metadata": {},
   "outputs": [
    {
     "data": {
      "text/html": [
       "<p><strong><pre style='display: inline;'>q3_1</pre></strong> passed! 🚀</p>"
      ],
      "text/plain": [
       "q3_1 results: All test cases passed!"
      ]
     },
     "execution_count": 42,
     "metadata": {},
     "output_type": "execute_result"
    }
   ],
   "source": [
    "grader.check(\"q3_1\")"
   ]
  },
  {
   "cell_type": "markdown",
   "id": "5bb2b85d",
   "metadata": {},
   "source": [
    "#### Question 3.2\n",
    "\n",
    "Plot fertility rate (y) as a function of mean years of education among women (x). "
   ]
  },
  {
   "cell_type": "code",
   "execution_count": 43,
   "id": "905b7cf4",
   "metadata": {},
   "outputs": [
    {
     "data": {
      "text/plain": [
       "<Axes: xlabel='Mean_yrs_education_women', ylabel='Fertility_rate'>"
      ]
     },
     "execution_count": 43,
     "metadata": {},
     "output_type": "execute_result"
    },
    {
     "data": {
      "image/png": "[encoded data removed]",
      "text/plain": [
       "<Figure size 640x480 with 1 Axes>"
      ]
     },
     "metadata": {},
     "output_type": "display_data"
    }
   ],
   "source": [
    "sns.lineplot(x = ed_clean['Mean_yrs_education_women'], y = ed_clean['Fertility_rate'])"
   ]
  },
  {
   "cell_type": "markdown",
   "id": "532ff97c",
   "metadata": {},
   "source": [
    "#### Question 3.3\n",
    "\n",
    "Select 10 countries of your choosing, then plot 10 lines on the same figure representing the change in fertility rate (y) and female education (x) from the year 1950 to the year 2020. Some tips on how to accomplish this:\n",
    "\n",
    "- If you create the same type of plot many times, the elements of the plots will appear on the same figure\n",
    "- There should be one line for each country\n",
    "- The 'label' argument in sns.lineplot will add a label for the line in your figure. \n",
    "- Each line will be defined by two points\n",
    "- You can accomplish all of this in one for loop"
   ]
  },
  {
   "cell_type": "code",
   "execution_count": 44,
   "id": "815bfd41",
   "metadata": {},
   "outputs": [
    {
     "data": {
      "image/png": "[encoded data removed]",
      "text/plain": [
       "<Figure size 640x480 with 1 Axes>"
      ]
     },
     "metadata": {},
     "output_type": "display_data"
    }
   ],
   "source": [
    "countries = ['Afghanistan','Albania','Algeria','Argentina','Armenia','Australia','Austria','Bahrain','Bangladesh','Barbados']\n",
    "\n",
    "for i in countries:\n",
    "    ed_temp = ed[ed['Entity'].str.contains(i)]\n",
    "    sns.lineplot(x = ed_temp['Mean_yrs_education_women'], y = ed_temp['Fertility_rate'], label=i)\n"
   ]
  },
  {
   "cell_type": "markdown",
   "id": "c8da838b",
   "metadata": {},
   "source": [
    "#### Question 3.4\n",
    "\n",
    "We'll now also look at child mortality rates over time and government expenditure on primary education as a percentage of total GDP (economic productivity).These are all in separate datasets, so you will need to join the data together on their shared key: Country/Entity. You will also need to compare them across a consistent temporal baseline, so select a common year or average across a common timespan for these comparisons before you merge them. \n",
    "\n",
    "Ensure that there are no redundant columns."
   ]
  },
  {
   "cell_type": "code",
   "execution_count": 45,
   "id": "f00ec8ed",
   "metadata": {},
   "outputs": [
    {
     "data": {
      "text/html": [
       "<div>\n",
       "<style scoped>\n",
       "    .dataframe tbody tr th:only-of-type {\n",
       "        vertical-align: middle;\n",
       "    }\n",
       "\n",
       "    .dataframe tbody tr th {\n",
       "        vertical-align: top;\n",
       "    }\n",
       "\n",
       "    .dataframe thead th {\n",
       "        text-align: right;\n",
       "    }\n",
       "</style>\n",
       "<table border=\"1\" class=\"dataframe\">\n",
       "  <thead>\n",
       "    <tr style=\"text-align: right;\">\n",
       "      <th></th>\n",
       "      <th>Entity</th>\n",
       "      <th>Code</th>\n",
       "      <th>Year</th>\n",
       "      <th>child_death_per_100</th>\n",
       "    </tr>\n",
       "  </thead>\n",
       "  <tbody>\n",
       "    <tr>\n",
       "      <th>0</th>\n",
       "      <td>Afghanistan</td>\n",
       "      <td>AFG</td>\n",
       "      <td>1957</td>\n",
       "      <td>37.590538</td>\n",
       "    </tr>\n",
       "    <tr>\n",
       "      <th>1</th>\n",
       "      <td>Afghanistan</td>\n",
       "      <td>AFG</td>\n",
       "      <td>1958</td>\n",
       "      <td>36.962840</td>\n",
       "    </tr>\n",
       "    <tr>\n",
       "      <th>2</th>\n",
       "      <td>Afghanistan</td>\n",
       "      <td>AFG</td>\n",
       "      <td>1959</td>\n",
       "      <td>36.343746</td>\n",
       "    </tr>\n",
       "    <tr>\n",
       "      <th>3</th>\n",
       "      <td>Afghanistan</td>\n",
       "      <td>AFG</td>\n",
       "      <td>1960</td>\n",
       "      <td>35.730060</td>\n",
       "    </tr>\n",
       "    <tr>\n",
       "      <th>4</th>\n",
       "      <td>Afghanistan</td>\n",
       "      <td>AFG</td>\n",
       "      <td>1961</td>\n",
       "      <td>35.165825</td>\n",
       "    </tr>\n",
       "  </tbody>\n",
       "</table>\n",
       "</div>"
      ],
      "text/plain": [
       "        Entity Code  Year  child_death_per_100\n",
       "0  Afghanistan  AFG  1957            37.590538\n",
       "1  Afghanistan  AFG  1958            36.962840\n",
       "2  Afghanistan  AFG  1959            36.343746\n",
       "3  Afghanistan  AFG  1960            35.730060\n",
       "4  Afghanistan  AFG  1961            35.165825"
      ]
     },
     "execution_count": 45,
     "metadata": {},
     "output_type": "execute_result"
    }
   ],
   "source": [
    "child_mort = pd.read_csv(\"data/child-mortality-igme.csv\")\n",
    "child_mort.head()"
   ]
  },
  {
   "cell_type": "code",
   "execution_count": 46,
   "id": "e5be22b2",
   "metadata": {},
   "outputs": [
    {
     "data": {
      "text/html": [
       "<div>\n",
       "<style scoped>\n",
       "    .dataframe tbody tr th:only-of-type {\n",
       "        vertical-align: middle;\n",
       "    }\n",
       "\n",
       "    .dataframe tbody tr th {\n",
       "        vertical-align: top;\n",
       "    }\n",
       "\n",
       "    .dataframe thead th {\n",
       "        text-align: right;\n",
       "    }\n",
       "</style>\n",
       "<table border=\"1\" class=\"dataframe\">\n",
       "  <thead>\n",
       "    <tr style=\"text-align: right;\">\n",
       "      <th></th>\n",
       "      <th>Entity</th>\n",
       "      <th>Code</th>\n",
       "      <th>Year</th>\n",
       "      <th>education_expenditure</th>\n",
       "    </tr>\n",
       "  </thead>\n",
       "  <tbody>\n",
       "    <tr>\n",
       "      <th>0</th>\n",
       "      <td>Afghanistan</td>\n",
       "      <td>AFG</td>\n",
       "      <td>1971</td>\n",
       "      <td>0.30793</td>\n",
       "    </tr>\n",
       "    <tr>\n",
       "      <th>1</th>\n",
       "      <td>Afghanistan</td>\n",
       "      <td>AFG</td>\n",
       "      <td>1975</td>\n",
       "      <td>0.47981</td>\n",
       "    </tr>\n",
       "    <tr>\n",
       "      <th>2</th>\n",
       "      <td>Afghanistan</td>\n",
       "      <td>AFG</td>\n",
       "      <td>1979</td>\n",
       "      <td>0.75845</td>\n",
       "    </tr>\n",
       "    <tr>\n",
       "      <th>3</th>\n",
       "      <td>Afghanistan</td>\n",
       "      <td>AFG</td>\n",
       "      <td>1980</td>\n",
       "      <td>0.87061</td>\n",
       "    </tr>\n",
       "    <tr>\n",
       "      <th>4</th>\n",
       "      <td>Afghanistan</td>\n",
       "      <td>AFG</td>\n",
       "      <td>1981</td>\n",
       "      <td>0.80777</td>\n",
       "    </tr>\n",
       "  </tbody>\n",
       "</table>\n",
       "</div>"
      ],
      "text/plain": [
       "        Entity Code  Year  education_expenditure\n",
       "0  Afghanistan  AFG  1971                0.30793\n",
       "1  Afghanistan  AFG  1975                0.47981\n",
       "2  Afghanistan  AFG  1979                0.75845\n",
       "3  Afghanistan  AFG  1980                0.87061\n",
       "4  Afghanistan  AFG  1981                0.80777"
      ]
     },
     "execution_count": 46,
     "metadata": {},
     "output_type": "execute_result"
    }
   ],
   "source": [
    "ed_spending = pd.read_csv(\"data/primary_education_expenditure.csv\")\n",
    "ed_spending.head()"
   ]
  },
  {
   "cell_type": "code",
   "execution_count": 47,
   "id": "e2787221",
   "metadata": {},
   "outputs": [
    {
     "data": {
      "text/html": [
       "<div>\n",
       "<style scoped>\n",
       "    .dataframe tbody tr th:only-of-type {\n",
       "        vertical-align: middle;\n",
       "    }\n",
       "\n",
       "    .dataframe tbody tr th {\n",
       "        vertical-align: top;\n",
       "    }\n",
       "\n",
       "    .dataframe thead th {\n",
       "        text-align: right;\n",
       "    }\n",
       "</style>\n",
       "<table border=\"1\" class=\"dataframe\">\n",
       "  <thead>\n",
       "    <tr style=\"text-align: right;\">\n",
       "      <th></th>\n",
       "      <th>Entity</th>\n",
       "      <th>Code_x</th>\n",
       "      <th>Year</th>\n",
       "      <th>child_death_per_100</th>\n",
       "      <th>Code_y</th>\n",
       "      <th>education_expenditure</th>\n",
       "    </tr>\n",
       "  </thead>\n",
       "  <tbody>\n",
       "    <tr>\n",
       "      <th>62</th>\n",
       "      <td>Argentina</td>\n",
       "      <td>ARG</td>\n",
       "      <td>1990</td>\n",
       "      <td>2.876629</td>\n",
       "      <td>ARG</td>\n",
       "      <td>0.03484</td>\n",
       "    </tr>\n",
       "    <tr>\n",
       "      <th>127</th>\n",
       "      <td>Austria</td>\n",
       "      <td>AUT</td>\n",
       "      <td>1990</td>\n",
       "      <td>0.951148</td>\n",
       "      <td>AUT</td>\n",
       "      <td>0.89851</td>\n",
       "    </tr>\n",
       "    <tr>\n",
       "      <th>165</th>\n",
       "      <td>Bangladesh</td>\n",
       "      <td>BGD</td>\n",
       "      <td>1990</td>\n",
       "      <td>14.596598</td>\n",
       "      <td>BGD</td>\n",
       "      <td>0.70885</td>\n",
       "    </tr>\n",
       "    <tr>\n",
       "      <th>258</th>\n",
       "      <td>Botswana</td>\n",
       "      <td>BWA</td>\n",
       "      <td>1990</td>\n",
       "      <td>4.527245</td>\n",
       "      <td>BWA</td>\n",
       "      <td>1.46383</td>\n",
       "    </tr>\n",
       "    <tr>\n",
       "      <th>311</th>\n",
       "      <td>Brunei</td>\n",
       "      <td>BRN</td>\n",
       "      <td>1990</td>\n",
       "      <td>1.328303</td>\n",
       "      <td>BRN</td>\n",
       "      <td>0.98629</td>\n",
       "    </tr>\n",
       "  </tbody>\n",
       "</table>\n",
       "</div>"
      ],
      "text/plain": [
       "         Entity Code_x  Year  child_death_per_100 Code_y  \\\n",
       "62    Argentina    ARG  1990             2.876629    ARG   \n",
       "127     Austria    AUT  1990             0.951148    AUT   \n",
       "165  Bangladesh    BGD  1990            14.596598    BGD   \n",
       "258    Botswana    BWA  1990             4.527245    BWA   \n",
       "311      Brunei    BRN  1990             1.328303    BRN   \n",
       "\n",
       "     education_expenditure  \n",
       "62                 0.03484  \n",
       "127                0.89851  \n",
       "165                0.70885  \n",
       "258                1.46383  \n",
       "311                0.98629  "
      ]
     },
     "execution_count": 47,
     "metadata": {},
     "output_type": "execute_result"
    }
   ],
   "source": [
    "ed_merged = pd.merge(child_mort,ed_spending, on=['Year','Entity'], how='inner')\n",
    "\n",
    "ed_merged = ed_merged[ed_merged['Year'] == 1990]\n",
    "\n",
    "ed_merged.head()\n"
   ]
  },
  {
   "cell_type": "code",
   "execution_count": 48,
   "id": "acbfcbe0",
   "metadata": {},
   "outputs": [
    {
     "data": {
      "text/html": [
       "<p><strong><pre style='display: inline;'>q3_4</pre></strong> passed! 🙌</p>"
      ],
      "text/plain": [
       "q3_4 results: All test cases passed!"
      ]
     },
     "execution_count": 48,
     "metadata": {},
     "output_type": "execute_result"
    }
   ],
   "source": [
    "grader.check(\"q3_4\")"
   ]
  },
  {
   "cell_type": "markdown",
   "id": "54db1077",
   "metadata": {},
   "source": [
    "#### Question 3.5\n",
    "\n",
    "Visualize the pairwise associations between child mortality rates, government spending on education, and fertility rates (three total visualizations). "
   ]
  },
  {
   "cell_type": "code",
   "execution_count": 49,
   "id": "6f6307c0",
   "metadata": {},
   "outputs": [
    {
     "data": {
      "text/plain": [
       "<seaborn.axisgrid.PairGrid at 0x14c22cd9afb0>"
      ]
     },
     "execution_count": 49,
     "metadata": {},
     "output_type": "execute_result"
    },
    {
     "data": {
      "image/png": "[encoded data removed]",
      "text/plain": [
       "<Figure size 500x500 with 6 Axes>"
      ]
     },
     "metadata": {},
     "output_type": "display_data"
    }
   ],
   "source": [
    "sns.pairplot(ed_merged[['child_death_per_100','education_expenditure']])"
   ]
  },
  {
   "cell_type": "markdown",
   "id": "204d5335",
   "metadata": {},
   "source": [
    "#### Question 3.6\n",
    "\n",
    "With what you've learned throughout part 3, write a paragraph (at least 4 sentences) describing why you think fertility rates are dropping over time. Note that there are a lot of potential reasons for this and we have presented for you just a window into this phenomenon, but you should be able to construct a coherent explanation with just the data we've used in the project. "
   ]
  },
  {
   "cell_type": "markdown",
   "id": "61b31a7c",
   "metadata": {},
   "source": [
    "**Your response:** Based on what we have observed, I believe there are a few factors impacting fertility rate. The largest impact seeems to be that as GPD of a country (and by extension quality of life of said countries residents) increases, fertility drops. This is likely due to a few reasons, the largest being there is more of an emphasis on working versus bearing children for women. Education also influences this trend similarly, with more education usually equating to lower fertility rate."
   ]
  },
  {
   "cell_type": "markdown",
   "id": "1687865b",
   "metadata": {},
   "source": [
    "#### That's a wrap\n",
    "\n",
    "Double check your grader tests with `grader.check_all()` and be sure you've read all the question's prompts carefully and responded accordingly. "
   ]
  },
  {
   "cell_type": "code",
   "execution_count": 50,
   "id": "bc9b401e",
   "metadata": {},
   "outputs": [
    {
     "data": {
      "text/plain": [
       "q1_1 results: All test cases passed!\n",
       "\n",
       "q1_2 results: All test cases passed!\n",
       "\n",
       "q1_3 results: All test cases passed!\n",
       "\n",
       "q1_4 results: All test cases passed!\n",
       "\n",
       "q1_5 results: All test cases passed!\n",
       "\n",
       "q1_6 results: All test cases passed!\n",
       "\n",
       "q2_1 results: All test cases passed!\n",
       "\n",
       "q2_2 results: All test cases passed!\n",
       "\n",
       "q2_4 results: All test cases passed!\n",
       "\n",
       "q2_5 results: All test cases passed!\n",
       "\n",
       "q2_7 results: All test cases passed!\n",
       "\n",
       "q2_8 results: All test cases passed!\n",
       "\n",
       "q2_9 results: All test cases passed!\n",
       "\n",
       "q3_1 results: All test cases passed!\n",
       "\n",
       "q3_4 results: All test cases passed!"
      ]
     },
     "execution_count": 50,
     "metadata": {},
     "output_type": "execute_result"
    }
   ],
   "source": [
    "grader.check_all()"
   ]
  },
  {
   "cell_type": "markdown",
   "id": "c0346190",
   "metadata": {},
   "source": [
    "Be sure to run the tests and verify that they all pass, then **Save** your changes, then **Download** your file to your host machine (if you are using jupyterhub), then submit your file to the Project 1 **Canvas** assignment by 11:59pm on the due date."
   ]
  },
  {
   "cell_type": "code",
   "execution_count": null,
   "id": "281ccee1",
   "metadata": {},
   "outputs": [],
   "source": []
  }
 ],
 "metadata": {
  "kernelspec": {
   "display_name": "Python 3 (ipykernel)",
   "language": "python",
   "name": "python3"
  },
  "language_info": {
   "codemirror_mode": {
    "name": "ipython",
    "version": 3
   },
   "file_extension": ".py",
   "mimetype": "text/x-python",
   "name": "python",
   "nbconvert_exporter": "python",
   "pygments_lexer": "ipython3",
   "version": "3.10.11"
  }
 },
 "nbformat": 4,
 "nbformat_minor": 5
}
